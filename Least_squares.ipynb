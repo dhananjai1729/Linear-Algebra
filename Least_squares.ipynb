{
  "nbformat": 4,
  "nbformat_minor": 0,
  "metadata": {
    "colab": {
      "provenance": []
    },
    "kernelspec": {
      "name": "python3",
      "display_name": "Python 3"
    },
    "language_info": {
      "name": "python"
    }
  },
  "cells": [
    {
      "cell_type": "code",
      "source": [
        "from torchvision.datasets import MNIST\n",
        "from sklearn.preprocessing import StandardScaler, MinMaxScaler\n",
        "from sklearn.linear_model import LinearRegression\n",
        "import numpy as np\n",
        "from sklearn.metrics import accuracy_score, confusion_matrix\n",
        "import matplotlib.pyplot as plt\n",
        "import seaborn as sns\n",
        "from tqdm import tqdm"
      ],
      "metadata": {
        "id": "Eoxg9pn6wVaj"
      },
      "execution_count": 41,
      "outputs": []
    },
    {
      "cell_type": "code",
      "source": [
        "mnist_data_train = MNIST('/', train=True, download=True)\n",
        "mnist_data_test = MNIST('/', train=False, download=True)"
      ],
      "metadata": {
        "id": "hfZ5TQNh3g8y"
      },
      "execution_count": 42,
      "outputs": []
    },
    {
      "cell_type": "code",
      "source": [
        "# Putting data into correct variables\n",
        "X_train, Y_train = mnist_data_train.data, mnist_data_train.targets\n",
        "X_test, Y_test = mnist_data_test.data, mnist_data_test.targets"
      ],
      "metadata": {
        "id": "hGGtVHAh3kOU"
      },
      "execution_count": 43,
      "outputs": []
    },
    {
      "cell_type": "code",
      "source": [],
      "metadata": {
        "id": "I-QX5VU49PKR"
      },
      "execution_count": 43,
      "outputs": []
    },
    {
      "cell_type": "code",
      "source": [
        "# crop the image by 5 pixels from all the sides\n",
        "X_train = X_train[:, 5:-5, 5:-5]\n",
        "X_test = X_test[:, 5:-5, 5:-5]"
      ],
      "metadata": {
        "id": "RKL5mNzg5uST"
      },
      "execution_count": 44,
      "outputs": []
    },
    {
      "cell_type": "code",
      "source": [
        "# Flatten the images into vectors\n",
        "X_train, X_test = np.reshape(X_train, (X_train.shape[0], 18*18)),np.reshape(X_test, (X_test.shape[0], 18*18))"
      ],
      "metadata": {
        "id": "4_LSldvQ8nBS"
      },
      "execution_count": 45,
      "outputs": []
    },
    {
      "cell_type": "code",
      "source": [
        "class LinearRegression():\n",
        "  # Constructor of this class\n",
        "  def __init__(self):\n",
        "    self.coeff = list()\n",
        "  # This function is used to find the coefficients for the line of best fit\n",
        "  def fit(self, A, Y):\n",
        "    # Add Bias\n",
        "    print(A)\n",
        "    A = np.concatenate((np.ones((len(A), 1)), A), axis=1)\n",
        "    # Find Pseudo Inverse\n",
        "    pseudo_inv = np.matmul(np.linalg.inv(np.matmul(np.transpose(A), A)), np.transpose(A))\n",
        "    # Finally get the coefficients\n",
        "    self.coeff = np.matmul(pseudo_inv, np.reshape(Y, (-1, 1)))\n",
        "    # This function uses the found coefficients to deliver predictions\n",
        "  def predict(self, A):\n",
        "    A = np.concatenate((np.ones((len(A), 1)), A), axis=1)\n",
        "    # print(\"Model Coefficients:\", self.coeff)\n",
        "    return np.squeeze(np.matmul(A, self.coeff))\n"
      ],
      "metadata": {
        "id": "NSxb7ThUCXJr"
      },
      "execution_count": 46,
      "outputs": []
    },
    {
      "cell_type": "code",
      "source": [
        "# def fit_curve(X_train, Y_train, X_test, Y_test, degree):\n",
        "#   if degree == 1:\n",
        "#     X_new_train = np.reshape(X_train, (-1, 1))\n",
        "#     X_new_test = np.reshape(X_test, (-1, 1))\n",
        "#   else:\n",
        "#     X_new_train = np.transpose(np.asarray([X_train**i for i in range(1, degree+1)]))\n",
        "#     X_new_test = np.transpose(np.asarray([X_test**i for i in range(1, degree+1)]))\n",
        "#   model = LinearRegression()\n",
        "#   model.fit(X_new_train, Y_train)\n",
        "#   preds = model.predict(X_new_test)\n",
        "#   preds = np.asarray([1 if i>0 else -1 for i in preds])\n",
        "#   print(\"Accuracy:\", accuracy_score(Y_test, preds), \"\\n\\n\")"
      ],
      "metadata": {
        "id": "3ovSVvEEFoWU"
      },
      "execution_count": 47,
      "outputs": []
    },
    {
      "cell_type": "code",
      "source": [
        "def fit_curve(X_train, Y_train, X_test, Y_test, degree):\n",
        "    if degree == 1:\n",
        "        X_new_train = X_train  # Already a 2D array\n",
        "        X_new_test = X_test    # Already a 2D array\n",
        "    else:\n",
        "        # Create polynomial features but keep it as a 2D array\n",
        "        X_new_train = np.column_stack([X_train**i for i in range(1, degree+1)])\n",
        "        X_new_test = np.column_stack([X_test**i for i in range(1, degree+1)])\n",
        "\n",
        "    model = LinearRegression()\n",
        "    model.fit(X_new_train, Y_train)\n",
        "    preds = model.predict(X_new_test)\n",
        "    preds = np.asarray([1 if i>0 else -1 for i in preds])\n",
        "    return accuracy_score(Y_test, preds)"
      ],
      "metadata": {
        "id": "BHS9K57WJFii"
      },
      "execution_count": 50,
      "outputs": []
    },
    {
      "cell_type": "code",
      "source": [
        "# Create 9 datasets with Y =1 corresponds to +ve class and Y = -1 corresponds to negative class\n",
        "# Create separate datasets where Y=+1 for '1' and Y=-1 for each other digit\n",
        "accuracy_scores = {}\n",
        "for digit in range(10):\n",
        "    if digit == 1:\n",
        "        continue  # Skip 1 as it is always positive\n",
        "\n",
        "    # print(f\"Creating dataset for 1 vs {digit}\")\n",
        "\n",
        "    # Define binary classification labels\n",
        "    Y_train_binary = np.where(Y_train == 1, 1, np.where(Y_train == digit, -1, 0))\n",
        "    Y_test_binary = np.where(Y_test == 1, 1, np.where(Y_test == digit, -1, 0))\n",
        "\n",
        "    # Filter dataset to include only 1 and the current digit\n",
        "    train_mask = (Y_train_binary != 0)\n",
        "    test_mask = (Y_test_binary != 0)\n",
        "\n",
        "    X_train_filtered, Y_train_filtered = X_train[train_mask], Y_train_binary[train_mask]\n",
        "    X_test_filtered, Y_test_filtered = X_test[test_mask], Y_test_binary[test_mask]\n",
        "\n",
        "    accuracy = fit_curve(X_train_filtered, Y_train_filtered, X_test_filtered, Y_test_filtered, 1)\n",
        "    accuracy_scores[f\"1 vs {digit}\"] = accuracy"
      ],
      "metadata": {
        "colab": {
          "base_uri": "https://localhost:8080/"
        },
        "collapsed": true,
        "id": "UW81_2hZ88E-",
        "outputId": "44bc9a83-9a24-4fdf-addd-ba1e0d6e1189"
      },
      "execution_count": 53,
      "outputs": [
        {
          "output_type": "stream",
          "name": "stdout",
          "text": [
            "tensor([[0, 0, 0,  ..., 0, 0, 0],\n",
            "        [0, 0, 0,  ..., 0, 0, 0],\n",
            "        [0, 0, 0,  ..., 0, 0, 0],\n",
            "        ...,\n",
            "        [0, 0, 0,  ..., 0, 0, 0],\n",
            "        [0, 0, 0,  ..., 0, 0, 0],\n",
            "        [0, 0, 0,  ..., 0, 0, 0]], dtype=torch.uint8)\n",
            "tensor([[0, 0, 0,  ..., 0, 0, 0],\n",
            "        [0, 0, 0,  ..., 0, 0, 0],\n",
            "        [0, 0, 0,  ..., 0, 0, 0],\n",
            "        ...,\n",
            "        [0, 0, 0,  ..., 0, 0, 0],\n",
            "        [0, 0, 0,  ..., 0, 0, 0],\n",
            "        [0, 0, 0,  ..., 0, 0, 0]], dtype=torch.uint8)\n",
            "tensor([[0, 0, 0,  ..., 0, 0, 0],\n",
            "        [0, 0, 0,  ..., 0, 0, 0],\n",
            "        [0, 0, 0,  ..., 0, 0, 0],\n",
            "        ...,\n",
            "        [0, 0, 0,  ..., 0, 0, 0],\n",
            "        [0, 0, 0,  ..., 0, 0, 0],\n",
            "        [0, 0, 0,  ..., 0, 0, 0]], dtype=torch.uint8)\n",
            "tensor([[0, 0, 0,  ..., 0, 0, 0],\n",
            "        [0, 0, 0,  ..., 0, 0, 0],\n",
            "        [0, 0, 0,  ..., 0, 0, 0],\n",
            "        ...,\n",
            "        [0, 0, 0,  ..., 0, 0, 0],\n",
            "        [0, 0, 0,  ..., 0, 0, 0],\n",
            "        [0, 0, 0,  ..., 0, 0, 0]], dtype=torch.uint8)\n",
            "tensor([[0, 0, 0,  ..., 0, 0, 0],\n",
            "        [0, 0, 0,  ..., 0, 0, 0],\n",
            "        [0, 0, 0,  ..., 0, 0, 0],\n",
            "        ...,\n",
            "        [0, 0, 0,  ..., 0, 0, 0],\n",
            "        [0, 0, 0,  ..., 0, 0, 0],\n",
            "        [0, 0, 0,  ..., 0, 0, 0]], dtype=torch.uint8)\n",
            "tensor([[0, 0, 0,  ..., 0, 0, 0],\n",
            "        [0, 0, 0,  ..., 0, 0, 0],\n",
            "        [0, 0, 0,  ..., 0, 0, 0],\n",
            "        ...,\n",
            "        [0, 0, 0,  ..., 0, 0, 0],\n",
            "        [0, 0, 0,  ..., 0, 0, 0],\n",
            "        [0, 0, 0,  ..., 0, 0, 0]], dtype=torch.uint8)\n",
            "tensor([[0, 0, 0,  ..., 0, 0, 0],\n",
            "        [0, 0, 0,  ..., 0, 0, 0],\n",
            "        [0, 0, 0,  ..., 0, 0, 0],\n",
            "        ...,\n",
            "        [0, 0, 0,  ..., 0, 0, 0],\n",
            "        [0, 0, 0,  ..., 0, 0, 0],\n",
            "        [0, 0, 0,  ..., 0, 0, 0]], dtype=torch.uint8)\n",
            "tensor([[0, 0, 0,  ..., 0, 0, 0],\n",
            "        [0, 0, 0,  ..., 0, 0, 0],\n",
            "        [0, 0, 0,  ..., 0, 0, 0],\n",
            "        ...,\n",
            "        [0, 0, 0,  ..., 0, 0, 0],\n",
            "        [0, 0, 0,  ..., 0, 0, 0],\n",
            "        [0, 0, 0,  ..., 0, 0, 0]], dtype=torch.uint8)\n",
            "tensor([[0, 0, 0,  ..., 0, 0, 0],\n",
            "        [0, 0, 0,  ..., 0, 0, 0],\n",
            "        [0, 0, 0,  ..., 0, 0, 0],\n",
            "        ...,\n",
            "        [0, 0, 0,  ..., 0, 0, 0],\n",
            "        [0, 0, 0,  ..., 0, 0, 0],\n",
            "        [0, 0, 0,  ..., 0, 0, 0]], dtype=torch.uint8)\n"
          ]
        }
      ]
    },
    {
      "cell_type": "code",
      "source": [
        "accuracy_scores"
      ],
      "metadata": {
        "colab": {
          "base_uri": "https://localhost:8080/"
        },
        "id": "nVsqrHB8I_F1",
        "outputId": "71641322-c661-45a3-d423-bb55055cc043"
      },
      "execution_count": 54,
      "outputs": [
        {
          "output_type": "execute_result",
          "data": {
            "text/plain": [
              "{'1 vs 0': 0.9952718676122931,\n",
              " '1 vs 2': 0.9806183664051684,\n",
              " '1 vs 3': 0.9916083916083916,\n",
              " '1 vs 4': 0.995276334435522,\n",
              " '1 vs 5': 0.9911198815984213,\n",
              " '1 vs 6': 0.9952221691352127,\n",
              " '1 vs 7': 0.9889042995839112,\n",
              " '1 vs 8': 0.9781887150308203,\n",
              " '1 vs 9': 0.9944029850746269}"
            ]
          },
          "metadata": {},
          "execution_count": 54
        }
      ]
    },
    {
      "cell_type": "code",
      "source": [
        "from torchvision.datasets import MNIST\n",
        "import numpy as np\n",
        "from sklearn.metrics import accuracy_score, confusion_matrix\n",
        "import matplotlib.pyplot as plt\n",
        "import seaborn as sns\n",
        "from tqdm import tqdm\n",
        "\n",
        "# Download the MNIST dataset\n",
        "mnist_data_train = MNIST('./', train=True, download=True)\n",
        "mnist_data_test = MNIST('./', train=False, download=True)\n",
        "\n",
        "# Extract data and labels\n",
        "X_train, Y_train = mnist_data_train.data.numpy(), mnist_data_train.targets.numpy()\n",
        "X_test, Y_test = mnist_data_test.data.numpy(), mnist_data_test.targets.numpy()\n",
        "\n",
        "# Crop images by 5 pixels from all sides\n",
        "X_train = X_train[:, 5:-5, 5:-5]\n",
        "X_test = X_test[:, 5:-5, 5:-5]\n",
        "\n",
        "# Vectorize the data (flatten the images)\n",
        "X_train = X_train.reshape(X_train.shape[0], -1)  # Result: (60000, 18*18)\n",
        "X_test = X_test.reshape(X_test.shape[0], -1)     # Result: (10000, 18*18)\n",
        "\n",
        "class LinearRegressionLS:\n",
        "    def __init__(self):\n",
        "        self.coef = None\n",
        "\n",
        "    def fit(self, X, y):\n",
        "        # Add bias term\n",
        "        X_bias = np.column_stack([np.ones(X.shape[0]), X])\n",
        "\n",
        "        # Calculate coefficients using the normal equation: w = (X^T X)^(-1) X^T y\n",
        "        XTX = np.dot(X_bias.T, X_bias)\n",
        "        XTy = np.dot(X_bias.T, y)\n",
        "        self.coef = np.linalg.solve(XTX, XTy)\n",
        "\n",
        "    def predict(self, X):\n",
        "        # Add bias term\n",
        "        X_bias = np.column_stack([np.ones(X.shape[0]), X])\n",
        "        # Make predictions\n",
        "        return np.dot(X_bias, self.coef)\n",
        "\n",
        "# Function to run a binary classification experiment\n",
        "def run_experiment(digit1, digit2):\n",
        "    print(f\"Running experiment for 1 vs. {digit2}\")\n",
        "\n",
        "    # Create binary labels: +1 for digit1, -1 for digit2\n",
        "    train_mask = np.logical_or(Y_train == digit1, Y_train == digit2)\n",
        "    test_mask = np.logical_or(Y_test == digit1, Y_test == digit2)\n",
        "\n",
        "    # Create binary labels\n",
        "    y_train_binary = np.where(Y_train == digit1, 1, -1)[train_mask]\n",
        "    y_test_binary = np.where(Y_test == digit1, 1, -1)[test_mask]\n",
        "\n",
        "    # Filter the training and test data\n",
        "    x_train_filtered = X_train[train_mask]\n",
        "    x_test_filtered = X_test[test_mask]\n",
        "\n",
        "    # Train the model\n",
        "    model = LinearRegressionLS()\n",
        "    model.fit(x_train_filtered, y_train_binary)\n",
        "\n",
        "    # Predict\n",
        "    y_pred_raw = model.predict(x_test_filtered)\n",
        "    y_pred = np.where(y_pred_raw > 0, 1, -1)\n",
        "\n",
        "    # Calculate accuracy and error\n",
        "    accuracy = accuracy_score(y_test_binary, y_pred)\n",
        "    error_rate = 1 - accuracy\n",
        "\n",
        "    # Calculate confusion matrix\n",
        "    cm = confusion_matrix(y_test_binary, y_pred)\n",
        "\n",
        "    print(f\"1 vs. {digit2} - Accuracy: {accuracy:.4f}, Error rate: {error_rate:.4f}\")\n",
        "    print(f\"Confusion Matrix:\\n{cm}\\n\")\n",
        "\n",
        "    return error_rate, cm\n",
        "\n",
        "# Run experiments for 1 vs. each other digit\n",
        "results = {}\n",
        "digit1 = 1\n",
        "\n",
        "for digit2 in range(10):\n",
        "    if digit2 != digit1:\n",
        "        error_rate, cm = run_experiment(digit1, digit2)\n",
        "        results[digit2] = error_rate\n",
        "\n",
        "# Find the digit with the highest misclassification error\n",
        "most_similar_digit = max(results, key=results.get)\n",
        "highest_error = results[most_similar_digit]\n",
        "\n",
        "print(f\"\\nResults summary:\")\n",
        "for digit, error in sorted(results.items()):\n",
        "    print(f\"1 vs. {digit}: Misclassification Error = {error:.4f}\")\n",
        "\n",
        "print(f\"\\nThe digit most similar to digit 1 is {most_similar_digit} with a misclassification error of {highest_error:.4f}\")\n",
        "\n",
        "# Map to multiple choice options\n",
        "options = {\n",
        "    0: \"(a) 1 vs. 0\",\n",
        "    7: \"(b) 1 vs. 7\",\n",
        "    2: \"(c) 1 vs. 2\",\n",
        "    9: \"(d) 1 vs. 9\"\n",
        "}\n",
        "\n",
        "print(f\"The answer is: {options.get(most_similar_digit, 'Not in provided options')}\")\n",
        "\n",
        "# Visualize the results\n",
        "plt.figure(figsize=(10, 6))\n",
        "digits = list(results.keys())\n",
        "errors = [results[d] for d in digits]\n",
        "bars = plt.bar(digits, errors)\n",
        "\n",
        "# Highlight the highest error\n",
        "max_index = errors.index(max(errors))\n",
        "bars[max_index].set_color('red')\n",
        "\n",
        "plt.xlabel('Digit')\n",
        "plt.ylabel('Misclassification Error')\n",
        "plt.title('Misclassification Error for Binary Classification of Digit 1 vs. Other Digits')\n",
        "plt.xticks(digits)\n",
        "plt.savefig('misclassification_error.png')\n",
        "plt.close()"
      ],
      "metadata": {
        "colab": {
          "base_uri": "https://localhost:8080/"
        },
        "id": "gPqJ8BT8O5Oc",
        "outputId": "ad296bb4-0ff5-4de4-b851-3e904ad49ca2"
      },
      "execution_count": 55,
      "outputs": [
        {
          "output_type": "stream",
          "name": "stdout",
          "text": [
            "Downloading http://yann.lecun.com/exdb/mnist/train-images-idx3-ubyte.gz\n",
            "Failed to download (trying next):\n",
            "HTTP Error 404: Not Found\n",
            "\n",
            "Downloading https://ossci-datasets.s3.amazonaws.com/mnist/train-images-idx3-ubyte.gz\n",
            "Downloading https://ossci-datasets.s3.amazonaws.com/mnist/train-images-idx3-ubyte.gz to ./MNIST/raw/train-images-idx3-ubyte.gz\n"
          ]
        },
        {
          "output_type": "stream",
          "name": "stderr",
          "text": [
            "100%|██████████| 9.91M/9.91M [00:01<00:00, 6.07MB/s]\n"
          ]
        },
        {
          "output_type": "stream",
          "name": "stdout",
          "text": [
            "Extracting ./MNIST/raw/train-images-idx3-ubyte.gz to ./MNIST/raw\n",
            "\n",
            "Downloading http://yann.lecun.com/exdb/mnist/train-labels-idx1-ubyte.gz\n",
            "Failed to download (trying next):\n",
            "HTTP Error 404: Not Found\n",
            "\n",
            "Downloading https://ossci-datasets.s3.amazonaws.com/mnist/train-labels-idx1-ubyte.gz\n",
            "Downloading https://ossci-datasets.s3.amazonaws.com/mnist/train-labels-idx1-ubyte.gz to ./MNIST/raw/train-labels-idx1-ubyte.gz\n"
          ]
        },
        {
          "output_type": "stream",
          "name": "stderr",
          "text": [
            "100%|██████████| 28.9k/28.9k [00:00<00:00, 160kB/s]\n"
          ]
        },
        {
          "output_type": "stream",
          "name": "stdout",
          "text": [
            "Extracting ./MNIST/raw/train-labels-idx1-ubyte.gz to ./MNIST/raw\n",
            "\n",
            "Downloading http://yann.lecun.com/exdb/mnist/t10k-images-idx3-ubyte.gz\n",
            "Failed to download (trying next):\n",
            "HTTP Error 404: Not Found\n",
            "\n",
            "Downloading https://ossci-datasets.s3.amazonaws.com/mnist/t10k-images-idx3-ubyte.gz\n",
            "Downloading https://ossci-datasets.s3.amazonaws.com/mnist/t10k-images-idx3-ubyte.gz to ./MNIST/raw/t10k-images-idx3-ubyte.gz\n"
          ]
        },
        {
          "output_type": "stream",
          "name": "stderr",
          "text": [
            "100%|██████████| 1.65M/1.65M [00:01<00:00, 1.30MB/s]\n"
          ]
        },
        {
          "output_type": "stream",
          "name": "stdout",
          "text": [
            "Extracting ./MNIST/raw/t10k-images-idx3-ubyte.gz to ./MNIST/raw\n",
            "\n",
            "Downloading http://yann.lecun.com/exdb/mnist/t10k-labels-idx1-ubyte.gz\n",
            "Failed to download (trying next):\n",
            "HTTP Error 404: Not Found\n",
            "\n",
            "Downloading https://ossci-datasets.s3.amazonaws.com/mnist/t10k-labels-idx1-ubyte.gz\n",
            "Downloading https://ossci-datasets.s3.amazonaws.com/mnist/t10k-labels-idx1-ubyte.gz to ./MNIST/raw/t10k-labels-idx1-ubyte.gz\n"
          ]
        },
        {
          "output_type": "stream",
          "name": "stderr",
          "text": [
            "100%|██████████| 4.54k/4.54k [00:00<00:00, 5.16MB/s]\n"
          ]
        },
        {
          "output_type": "stream",
          "name": "stdout",
          "text": [
            "Extracting ./MNIST/raw/t10k-labels-idx1-ubyte.gz to ./MNIST/raw\n",
            "\n",
            "Running experiment for 1 vs. 0\n",
            "1 vs. 0 - Accuracy: 0.9953, Error rate: 0.0047\n",
            "Confusion Matrix:\n",
            "[[ 977    3]\n",
            " [   7 1128]]\n",
            "\n",
            "Running experiment for 1 vs. 2\n",
            "1 vs. 2 - Accuracy: 0.9806, Error rate: 0.0194\n",
            "Confusion Matrix:\n",
            "[[1000   32]\n",
            " [  10 1125]]\n",
            "\n",
            "Running experiment for 1 vs. 3\n",
            "1 vs. 3 - Accuracy: 0.9916, Error rate: 0.0084\n",
            "Confusion Matrix:\n",
            "[[1004    6]\n",
            " [  12 1123]]\n",
            "\n",
            "Running experiment for 1 vs. 4\n",
            "1 vs. 4 - Accuracy: 0.9953, Error rate: 0.0047\n",
            "Confusion Matrix:\n",
            "[[ 977    5]\n",
            " [   5 1130]]\n",
            "\n",
            "Running experiment for 1 vs. 5\n",
            "1 vs. 5 - Accuracy: 0.9911, Error rate: 0.0089\n",
            "Confusion Matrix:\n",
            "[[ 882   10]\n",
            " [   8 1127]]\n",
            "\n",
            "Running experiment for 1 vs. 6\n",
            "1 vs. 6 - Accuracy: 0.9952, Error rate: 0.0048\n",
            "Confusion Matrix:\n",
            "[[ 951    7]\n",
            " [   3 1132]]\n",
            "\n",
            "Running experiment for 1 vs. 7\n",
            "1 vs. 7 - Accuracy: 0.9889, Error rate: 0.0111\n",
            "Confusion Matrix:\n",
            "[[1007   21]\n",
            " [   3 1132]]\n",
            "\n",
            "Running experiment for 1 vs. 8\n",
            "1 vs. 8 - Accuracy: 0.9782, Error rate: 0.0218\n",
            "Confusion Matrix:\n",
            "[[ 940   34]\n",
            " [  12 1123]]\n",
            "\n",
            "Running experiment for 1 vs. 9\n",
            "1 vs. 9 - Accuracy: 0.9944, Error rate: 0.0056\n",
            "Confusion Matrix:\n",
            "[[1001    8]\n",
            " [   4 1131]]\n",
            "\n",
            "\n",
            "Results summary:\n",
            "1 vs. 0: Misclassification Error = 0.0047\n",
            "1 vs. 2: Misclassification Error = 0.0194\n",
            "1 vs. 3: Misclassification Error = 0.0084\n",
            "1 vs. 4: Misclassification Error = 0.0047\n",
            "1 vs. 5: Misclassification Error = 0.0089\n",
            "1 vs. 6: Misclassification Error = 0.0048\n",
            "1 vs. 7: Misclassification Error = 0.0111\n",
            "1 vs. 8: Misclassification Error = 0.0218\n",
            "1 vs. 9: Misclassification Error = 0.0056\n",
            "\n",
            "The digit most similar to digit 1 is 8 with a misclassification error of 0.0218\n",
            "The answer is: Not in provided options\n"
          ]
        }
      ]
    },
    {
      "cell_type": "code",
      "source": [],
      "metadata": {
        "id": "wfgqcT62PqZw"
      },
      "execution_count": null,
      "outputs": []
    }
  ]
}